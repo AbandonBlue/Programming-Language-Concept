{
 "cells": [
  {
   "cell_type": "markdown",
   "metadata": {},
   "source": [
    "# ~、^、|、& 、>>、<< 這些符號在程式語言中代表是位元運算符\n",
    "    - 你可以參考這個網址的運算符部分: [https://www.runoob.com/python3/python3-basic-operators.html]"
   ]
  },
  {
   "cell_type": "code",
   "execution_count": 1,
   "metadata": {},
   "outputs": [
    {
     "name": "stdout",
     "output_type": "stream",
     "text": [
      "10\n"
     ]
    }
   ],
   "source": [
    "# 一般來說我們人都是用十進位制\n",
    "# 但是電腦是用2進位制，8進位制，16進位制\n",
    "# 那些除了2進位，8、16都有其特殊用途。\n",
    "# 像是RGB(三原色)，就是16進位的一種應用\n",
    "\n",
    "a = 10\n",
    "print(a)"
   ]
  },
  {
   "cell_type": "code",
   "execution_count": 3,
   "metadata": {},
   "outputs": [
    {
     "name": "stdout",
     "output_type": "stream",
     "text": [
      "0b1010\n"
     ]
    }
   ],
   "source": [
    "# 2進位制在python的使用0b當作前綴表示，10 = 0b 1010\n",
    "# 轉換過程 (2^0 * 0 + 2^1 * 1 + 2^2 * 0 + 2^3 * 1) = 10 \n",
    "\n",
    "print(bin(a))"
   ]
  },
  {
   "cell_type": "code",
   "execution_count": 4,
   "metadata": {},
   "outputs": [
    {
     "name": "stdout",
     "output_type": "stream",
     "text": [
      "0o12\n"
     ]
    }
   ],
   "source": [
    "# 8進位制在python的使用0o當作前綴表示，10 = 0o 12\n",
    "# 轉換過程 (8^0 * 2 + 8^1 * 1) = 10 \n",
    "\n",
    "print(oct(a))"
   ]
  },
  {
   "cell_type": "code",
   "execution_count": 5,
   "metadata": {},
   "outputs": [
    {
     "name": "stdout",
     "output_type": "stream",
     "text": [
      "0xa\n"
     ]
    }
   ],
   "source": [
    "# 16進位制在python的使用0o當作前綴表示，10 = 0x a\n",
    "# 轉換過程 (16^0 * a) = 10, 其中a代表10，因為16進位，a~f 對應於 10~15 \n",
    "\n",
    "print(hex(a))"
   ]
  },
  {
   "cell_type": "code",
   "execution_count": 8,
   "metadata": {},
   "outputs": [
    {
     "name": "stdout",
     "output_type": "stream",
     "text": [
      "-11\n",
      "-0b1011\n",
      "-0xb\n"
     ]
    }
   ],
   "source": [
    "print(~a)\n",
    "print(bin(~a))  # 這裡可以算出 1011 ---> 2^3 * 1 + 2^1 * 1 +　2^0 * 1 == 11\n",
    "print(hex(~a))  # -11 在16進位表示就是 -b"
   ]
  },
  {
   "cell_type": "code",
   "execution_count": null,
   "metadata": {},
   "outputs": [],
   "source": []
  }
 ],
 "metadata": {
  "kernelspec": {
   "display_name": "Python 3",
   "language": "python",
   "name": "python3"
  },
  "language_info": {
   "codemirror_mode": {
    "name": "ipython",
    "version": 3
   },
   "file_extension": ".py",
   "mimetype": "text/x-python",
   "name": "python",
   "nbconvert_exporter": "python",
   "pygments_lexer": "ipython3",
   "version": "3.7.3"
  }
 },
 "nbformat": 4,
 "nbformat_minor": 2
}
